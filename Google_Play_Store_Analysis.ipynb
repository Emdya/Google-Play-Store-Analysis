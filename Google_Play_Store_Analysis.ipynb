{
  "cells": [
    {
      "source": [
        "# IMPORTANT: RUN THIS CELL IN ORDER TO IMPORT YOUR KAGGLE DATA SOURCES,\n",
        "# THEN FEEL FREE TO DELETE THIS CELL.\n",
        "# NOTE: THIS NOTEBOOK ENVIRONMENT DIFFERS FROM KAGGLE'S PYTHON\n",
        "# ENVIRONMENT SO THERE MAY BE MISSING LIBRARIES USED BY YOUR\n",
        "# NOTEBOOK.\n",
        "import kagglehub\n",
        "lava18_google_play_store_apps_path = kagglehub.dataset_download('lava18/google-play-store-apps')\n",
        "\n",
        "print('Data source import complete.')\n"
      ],
      "metadata": {
        "id": "g6znBUNpscqB"
      },
      "cell_type": "code",
      "outputs": [],
      "execution_count": null
    },
    {
      "metadata": {
        "_uuid": "1d535d7c029591c52f5e4a4e78d61c3a3f45007d",
        "id": "mpeeX2zoscqC"
      },
      "cell_type": "markdown",
      "source": [
        "Hi everybody !\n",
        "\n",
        "In this notebook, I'm gonna analyze Google Play Store datas. While I was analyzing the data, I used Python. This study is my first data analyzing study. If you liked this kernel or it was benefit to you, forgot upvotes!\n",
        "Good studies. :) <br/>\n",
        "<br/>\n",
        "### **CONTENT**\n",
        "\n",
        "1. [Introduction to data](#1)  <br/>\n",
        "2. [Cleaning Data](#2)         <br/>\n",
        "&nbsp;&nbsp;&nbsp;&nbsp; A. [Category](#a)   <br/>\n",
        "&nbsp;&nbsp;&nbsp;&nbsp; B. [Rating](#b)      <br/>\n",
        "&nbsp;&nbsp;&nbsp;&nbsp; C. [Reviews](#c)   <br/>\n",
        "&nbsp;&nbsp;&nbsp;&nbsp; D. [Size](#d)   <br/>\n",
        "&nbsp;&nbsp;&nbsp;&nbsp; E. [Installs](#e)   <br/>\n",
        "&nbsp;&nbsp;&nbsp;&nbsp; F. [Price](#f)   <br/>\n",
        "&nbsp;&nbsp;&nbsp;&nbsp; G. [Last Updated](#g)  <br/>\n",
        "3. [Exploratory Data Analysis](#3)  <br/>\n",
        "&nbsp;&nbsp;&nbsp;&nbsp; A. [Category and Reviews](#a1)   <br/>\n",
        "&nbsp;&nbsp;&nbsp;&nbsp; B. [Category and Installs](#b1)      <br/>\n",
        "&nbsp;&nbsp;&nbsp;&nbsp; C. [Word Cloud](#c1)   <br/>\n",
        "&nbsp;&nbsp;&nbsp;&nbsp; D. [Content Rating](#d1)   <br/>"
      ]
    },
    {
      "metadata": {
        "_uuid": "5e06c9a0ebe7617425ac4c865e64d68ef3edf857",
        "id": "0BBKqg_7scqD"
      },
      "cell_type": "markdown",
      "source": [
        "<a id=\"1\"></a>\n",
        "# 1. INTRODUCTION TO DATA\n",
        "\n",
        "Firstly let's get to know data.  While I was analyzing the data, I used Pandas library.  <br/>\n",
        "* info(): It informs about data columns and data types. <br/>\n",
        "* head(): It returns the first five data. <br/>\n",
        "* tail(): It returns the last five data. <br/>\n",
        "* columns : It returns data columns <br/>\n",
        "* shape : It gives number of rows and columns in a tuble.\n"
      ]
    },
    {
      "metadata": {
        "_cell_guid": "79c7e3d0-c299-4dcb-8224-4455121ee9b0",
        "_uuid": "d629ff2d2480ee46fbb7e2d37f6b5fab8052498a",
        "trusted": true,
        "id": "jis4GHU8scqD"
      },
      "cell_type": "code",
      "source": [
        "#import library\n",
        "import pandas as pd # data processing, CSV file I/O (e.g. pd.read_csv)\n",
        "import numpy as np # linear algebra\n",
        "import matplotlib.pyplot as plt\n",
        "import seaborn as sns  # visualization tool\n",
        "# plotly\n",
        "import plotly.plotly as py\n",
        "from plotly.offline import init_notebook_mode, iplot\n",
        "init_notebook_mode(connected=True)\n",
        "import plotly.graph_objs as go\n",
        "\n",
        "# word cloud library\n",
        "from wordcloud import WordCloud\n"
      ],
      "execution_count": null,
      "outputs": []
    },
    {
      "metadata": {
        "trusted": true,
        "_uuid": "d1b1055e62085a0867b18d155446335c4e00c34f",
        "id": "gAFPS0I_scqD"
      },
      "cell_type": "code",
      "source": [
        "#read to csv\n",
        "data = pd.read_csv(\"../input/googleplaystore.csv\")"
      ],
      "execution_count": null,
      "outputs": []
    },
    {
      "metadata": {
        "trusted": true,
        "_uuid": "3d13aba0a6043f8b26a9d47682fb291c6c402446",
        "_kg_hide-output": false,
        "_kg_hide-input": false,
        "id": "z6iUaAzvscqD"
      },
      "cell_type": "code",
      "source": [
        "data.info()"
      ],
      "execution_count": null,
      "outputs": []
    },
    {
      "metadata": {
        "trusted": true,
        "_uuid": "3cebb1d11e5b26fe562ef440e6c08cfe5ca7a606",
        "_kg_hide-input": true,
        "id": "rvjn4Sk-scqE"
      },
      "cell_type": "code",
      "source": [
        "data.columns"
      ],
      "execution_count": null,
      "outputs": []
    },
    {
      "metadata": {
        "trusted": true,
        "scrolled": true,
        "_uuid": "30723b209b43085965ccc977a7323e330bb887a0",
        "id": "zMfHWzIUscqE"
      },
      "cell_type": "code",
      "source": [
        "data.shape"
      ],
      "execution_count": null,
      "outputs": []
    },
    {
      "metadata": {
        "trusted": true,
        "_uuid": "ed8ec1d98b9b852955871ae12faebf0fdab008ba",
        "id": "weg2JBGuscqE"
      },
      "cell_type": "code",
      "source": [
        "data.head()"
      ],
      "execution_count": null,
      "outputs": []
    },
    {
      "metadata": {
        "trusted": true,
        "_uuid": "fbdd18afe5d8f55073fd84c14b3adce804322c8d",
        "scrolled": true,
        "id": "R6sVMJmascqE"
      },
      "cell_type": "code",
      "source": [
        "data.tail()"
      ],
      "execution_count": null,
      "outputs": []
    },
    {
      "metadata": {
        "_uuid": "9217298169a6127a396881937b49e880659ab370",
        "id": "8KlP-IQhscqE"
      },
      "cell_type": "markdown",
      "source": [
        "We can combine tables to make it easier to see data. For this, we are gonna use \"concat function\" that is found Pandas library. <br/> <br/>\n",
        "pd.concat([data frame parameters], axis,ignore_index) : It combines 2 tables. <br/>\n",
        "**axis** : It adds the tables as horizontal or vertical. If axis equals 0, it adds as horizontal. If axis equals 1, it adds as vertical. <br/>\n",
        "**ignore_index** : It ignores index values.\n"
      ]
    },
    {
      "metadata": {
        "trusted": true,
        "_uuid": "a4523f662fe220e178e3af500d0de68c31616db7",
        "scrolled": true,
        "id": "qvHXfmyGscqE"
      },
      "cell_type": "code",
      "source": [
        "data1 = data.head()\n",
        "data2 = data.tail()\n",
        "concat_data = pd.concat([data1,data2],axis=0,ignore_index=True)\n",
        "concat_data"
      ],
      "execution_count": null,
      "outputs": []
    },
    {
      "metadata": {
        "_uuid": "8c19f552f543134a723fe69855a6d2492480e1a1",
        "id": "ZixW4vhuscqE"
      },
      "cell_type": "markdown",
      "source": [
        "<a id=\"2\"></a>\n",
        "# 2. Cleaning Data\n",
        "\n",
        "Dataset can contain missing data, numerical string value, various cues. If we can clean them, we can make easy our analysis.  <br/>\n",
        "\n",
        "Let's have some fun. :)\n",
        "\n",
        "<a id=\"a\"></a>\n",
        "## Category"
      ]
    },
    {
      "metadata": {
        "trusted": true,
        "_uuid": "3f97cdd7d804ae6ff3581ea010678ef142e773c2",
        "scrolled": true,
        "id": "1saD7M_lscqE"
      },
      "cell_type": "code",
      "source": [
        "data['Category'].unique()"
      ],
      "execution_count": null,
      "outputs": []
    },
    {
      "metadata": {
        "_uuid": "d03d67cad75a38091a13ccbd864a9ce4eba830bc",
        "id": "auRT0NpYscqE"
      },
      "cell_type": "markdown",
      "source": [
        "'1.9' is wrong value. So I have to see in which rows '1.9' corresponds to."
      ]
    },
    {
      "metadata": {
        "trusted": true,
        "scrolled": true,
        "_uuid": "a783fab2323032fbbf79a32a7f1a1a3472bf86ec",
        "id": "93qNhMrCscqF"
      },
      "cell_type": "code",
      "source": [
        "data[data['Category'] == '1.9']"
      ],
      "execution_count": null,
      "outputs": []
    },
    {
      "metadata": {
        "_uuid": "ad9cb8e984629014f19963b06a9f25c17731ae59",
        "id": "jsP_NSiGscqF"
      },
      "cell_type": "markdown",
      "source": [
        "We can make NaN category value. At that time we can get a clean data. I used shift() method that is found Pandas library."
      ]
    },
    {
      "metadata": {
        "trusted": true,
        "_uuid": "fd143ed826baaa82e29cf8440c73a91799ac2e29",
        "id": "riPtZxuhscqF"
      },
      "cell_type": "code",
      "source": [
        "data.loc[10472] = data.loc[10472].shift()\n",
        "data['App'].loc[10472] = data['Category'].loc[10472]\n",
        "data['Category'].loc[10472] = np.nan\n",
        "data.loc[10472]"
      ],
      "execution_count": null,
      "outputs": []
    },
    {
      "metadata": {
        "_uuid": "dcddb819a95fd56516cc08d1386cbda017cf28b0",
        "id": "O0xTTRHcscqF"
      },
      "cell_type": "markdown",
      "source": [
        "<a id=\"b\"></a>\n",
        "## Rating"
      ]
    },
    {
      "metadata": {
        "trusted": true,
        "scrolled": true,
        "_uuid": "2f08d41f739bc873b4228a3672eabda7b386ac03",
        "id": "7REgVTG2scqF"
      },
      "cell_type": "code",
      "source": [
        "data['Rating'].unique()"
      ],
      "execution_count": null,
      "outputs": []
    },
    {
      "metadata": {
        "_uuid": "05c35e4ecaa733a58fbdeb40a38e3ddba081f8e0",
        "id": "eqCcVlSVscqF"
      },
      "cell_type": "markdown",
      "source": [
        "Data type of Rating is object. If we convert from string to numeric, we can make easy."
      ]
    },
    {
      "metadata": {
        "trusted": true,
        "_uuid": "e734a21ac67f81ad18740f71a1990a81e5b05980",
        "id": "-FJ1YfisscqF"
      },
      "cell_type": "code",
      "source": [
        "data['Rating'] = pd.to_numeric(data['Rating'], errors='coerce')\n",
        "data['Rating'].dtype"
      ],
      "execution_count": null,
      "outputs": []
    },
    {
      "metadata": {
        "_uuid": "75de2fe8a52b1f160d8cef12be05c85591925e35",
        "id": "Cp--s-rMscqF"
      },
      "cell_type": "markdown",
      "source": [
        "<a id=\"c\"></a>\n",
        "## Reviews"
      ]
    },
    {
      "metadata": {
        "trusted": true,
        "_uuid": "be5955138585a329cb93e2fe6028192d912a5a9a",
        "id": "VKVTyccEscqF"
      },
      "cell_type": "code",
      "source": [
        "data['Reviews'].unique()"
      ],
      "execution_count": null,
      "outputs": []
    },
    {
      "metadata": {
        "trusted": true,
        "_uuid": "33ee7d15495d1fe29c2eead88da064a62bca59d0",
        "id": "cXTTLi42scqF"
      },
      "cell_type": "code",
      "source": [
        "data[data['Reviews'] =='3.0M']"
      ],
      "execution_count": null,
      "outputs": []
    },
    {
      "metadata": {
        "trusted": true,
        "_uuid": "731ba345951119e1f43a18f83ea6682cace41c41",
        "id": "tcl1Uy__scqF"
      },
      "cell_type": "code",
      "source": [
        "data['Reviews'] = data.Reviews.replace(\"0.0\",0)\n",
        "data['Reviews'] = data.Reviews.replace(\"3.0M\",3000000.0)\n",
        "data['Reviews'] = data['Reviews'].astype(float)\n",
        "data['Reviews'].dtype"
      ],
      "execution_count": null,
      "outputs": []
    },
    {
      "metadata": {
        "_uuid": "2b87fa64098f7daeed32c193273e2f61df8b9995",
        "id": "Xjg-V-fFscqF"
      },
      "cell_type": "markdown",
      "source": [
        "<a id=\"d\"></a>\n",
        "## Size"
      ]
    },
    {
      "metadata": {
        "trusted": true,
        "_uuid": "2982cbbab602bf84a896b86a77b772c18ff1a98e",
        "id": "73l70-dDscqF"
      },
      "cell_type": "code",
      "source": [
        "data['Size'].unique()"
      ],
      "execution_count": null,
      "outputs": []
    },
    {
      "metadata": {
        "_uuid": "a43a1642e46f3887fb7175b63c38f4cb2afa3d6a",
        "id": "wXKq0xM9scqF"
      },
      "cell_type": "markdown",
      "source": [
        "Data type of Size is object. I had to convert the column because it contains the application sizes. Firstly I changed 'Varies with device' value with Nan. After, I dropped 'M' and 'k'. I changed from '1000+' to 1000. Finally, I converted float value."
      ]
    },
    {
      "metadata": {
        "trusted": true,
        "_uuid": "eba4661b63fe8d2fde36922a3d3215b2ecdc8abd",
        "id": "K2vGTwIzscqF"
      },
      "cell_type": "code",
      "source": [
        "data['Size'] = data.Size.replace(\"Varies with device\",np.nan)\n",
        "data['Size'] = data.Size.str.replace(\"M\",\"000\") # All size values became the kilobyte type.\n",
        "data['Size'] = data.Size.str.replace(\"k\",\"\")\n",
        "data['Size'] = data.Size.replace(\"1,000+\",1000)\n",
        "data['Size'] =data['Size'].astype(float)\n",
        "data['Size'].dtype"
      ],
      "execution_count": null,
      "outputs": []
    },
    {
      "metadata": {
        "_uuid": "77ddce3c883bb3786f45167d8c2ae8831b310032",
        "id": "FyZhrS8zscqF"
      },
      "cell_type": "markdown",
      "source": [
        "<a id=\"e\"></a>\n",
        "## Installs"
      ]
    },
    {
      "metadata": {
        "trusted": true,
        "_uuid": "0d65bdedf2d97679245e5e666fccf8a2d44beaa1",
        "id": "knFkOK0wscqF"
      },
      "cell_type": "code",
      "source": [
        "data['Installs'].unique()"
      ],
      "execution_count": null,
      "outputs": []
    },
    {
      "metadata": {
        "_uuid": "f88aabec1af346b3695af8c1e18887b521faaf8d",
        "id": "anQNIlRnscqF"
      },
      "cell_type": "markdown",
      "source": [
        "Data type of Size is object. I'm gonna make similar processes, which I made the in 'Size'."
      ]
    },
    {
      "metadata": {
        "trusted": true,
        "_uuid": "8215e484fb8d6d933ac6fa968ae2c41c6ab01874",
        "id": "uZcm7PviscqF"
      },
      "cell_type": "code",
      "source": [
        "data['Installs'] = data.Installs.str.replace(\",\",\"\")\n",
        "data['Installs'] = data.Installs.str.replace(\"+\",\"\")\n",
        "data['Installs'] = data.Installs.replace(\"Free\",np.nan)\n",
        "data['Installs'] = data['Installs'].astype(float)\n",
        "data['Installs'].dtype"
      ],
      "execution_count": null,
      "outputs": []
    },
    {
      "metadata": {
        "_uuid": "281cf1cb2fca16fe65279391e0b080b7d5168b20",
        "id": "n7pAw8aescqF"
      },
      "cell_type": "markdown",
      "source": [
        "<a id=\"f\"></a>\n",
        "## Price"
      ]
    },
    {
      "metadata": {
        "trusted": true,
        "_uuid": "3839eecb8abbda4a46372486c97b2b874172d6cf",
        "id": "hPZkO225scqF"
      },
      "cell_type": "code",
      "source": [
        "data['Price'].unique()"
      ],
      "execution_count": null,
      "outputs": []
    },
    {
      "metadata": {
        "_uuid": "31d60d87c4f477338ef0c22982f9e5bf51b48160",
        "id": "1qaGALgrscqF"
      },
      "cell_type": "markdown",
      "source": [
        "Data type of Price is object. I have made similar processes, which I made the in 'Size'."
      ]
    },
    {
      "metadata": {
        "trusted": true,
        "_uuid": "81e357dcb9b9f6a965cfd09c277cc3fe89e7320b",
        "id": "o0gcJt3MscqF"
      },
      "cell_type": "code",
      "source": [
        "data['Price'] = data.Price.replace(\"Everyone\",np.nan)\n",
        "data['Price'] = data.Price.str.replace(\"$\",\"\").astype(float)\n",
        "data['Price'].dtype"
      ],
      "execution_count": null,
      "outputs": []
    },
    {
      "metadata": {
        "_uuid": "dcf80b253d00eddb91562f9260b0590930ac8d3c",
        "id": "ufhNnGhwscqF"
      },
      "cell_type": "markdown",
      "source": [
        "<a id=\"g\"></a>\n",
        "## Last Updated"
      ]
    },
    {
      "metadata": {
        "trusted": true,
        "_uuid": "19dee1ed311e28527e5189b7956f98791c640cdf",
        "id": "7FAZp2y7scqM"
      },
      "cell_type": "code",
      "source": [
        "data['Last Updated'].unique()"
      ],
      "execution_count": null,
      "outputs": []
    },
    {
      "metadata": {
        "_uuid": "3d225c5b0c7be0b9319b584c6b0e1cbdecb416d9",
        "id": "USEDeVeUscqM"
      },
      "cell_type": "markdown",
      "source": [
        "Data type of Last Uptated is object. I converted from string to date type."
      ]
    },
    {
      "metadata": {
        "trusted": true,
        "scrolled": false,
        "_uuid": "23bfe4e2ba6680008cd150dff68c09424ee63536",
        "id": "HuyV_8sgscqM"
      },
      "cell_type": "code",
      "source": [
        "data['Last Updated'] = pd.to_datetime(data['Last Updated'])\n",
        "data['Last Updated']"
      ],
      "execution_count": null,
      "outputs": []
    },
    {
      "metadata": {
        "_uuid": "466ebae8d5ad17765fb090161d5b7316380d8e6d",
        "id": "YxqEOugkscqM"
      },
      "cell_type": "markdown",
      "source": [
        "<a id=\"3\"></a>\n",
        "# Exploratory Data Analysis\n",
        "\n",
        "After, I prepared to analyze our data, somewhat let's explore the datas. :)\n",
        "\n",
        "* corr() : It returns correlation.\n",
        "* describe (): It returns number of entries, average of entries, outlier values, standart deviation, minimum and maximum entry."
      ]
    },
    {
      "metadata": {
        "trusted": true,
        "_uuid": "f90213e1b3aecef91739dfd7a85043612c9a012e",
        "id": "OMq6D1Y8scqM"
      },
      "cell_type": "code",
      "source": [
        "data.corr()"
      ],
      "execution_count": null,
      "outputs": []
    },
    {
      "metadata": {
        "trusted": true,
        "_uuid": "9e5aa3a241895ba067648622b7453b9e0bdbe7b5",
        "id": "66jt2DXmscqM"
      },
      "cell_type": "code",
      "source": [
        "#correlation map\n",
        "f,ax = plt.subplots(figsize=(12, 12))\n",
        "sns.heatmap(data.corr(), annot=True, linewidths=.5, fmt= '.1f',ax=ax)\n",
        "plt.show()"
      ],
      "execution_count": null,
      "outputs": []
    },
    {
      "metadata": {
        "trusted": true,
        "_uuid": "8b42edf85143bc36fc753dae1a17f6194f49ffb6",
        "id": "--dH9klCscqM"
      },
      "cell_type": "code",
      "source": [
        "data.describe()"
      ],
      "execution_count": null,
      "outputs": []
    },
    {
      "metadata": {
        "_uuid": "37efb4a53eea4de019d0d512366172481d5716b9",
        "id": "F-bWGMDYscqM"
      },
      "cell_type": "markdown",
      "source": [
        "<a id=\"a1\"></a>\n",
        "## Category and Reviews"
      ]
    },
    {
      "metadata": {
        "trusted": true,
        "_uuid": "6d4de369ec4193b23b04d06ee99b41ea3b773030",
        "id": "neXM2iw4scqM"
      },
      "cell_type": "code",
      "source": [
        "category_list = list(data['Category'].unique())\n",
        "category_review = []\n",
        "for i in category_list:\n",
        "    x = data[data['Category'] == i]\n",
        "    if(len(x)!=0):\n",
        "        review = sum(x.Reviews)/len(x)\n",
        "        category_review.append(review)\n",
        "    else:\n",
        "        review = sum(x.Reviews)\n",
        "        category_review.append(review)\n",
        "#sorting\n",
        "data_category_reviews = pd.DataFrame({'category': category_list,'review':category_review})\n",
        "new_index = (data_category_reviews['review'].sort_values(ascending=False)).index.values\n",
        "sorted_data =data_category_reviews.reindex(new_index)\n",
        "\n",
        "# visualization\n",
        "plt.figure(figsize=(15,10))\n",
        "sns.barplot(x=sorted_data['category'], y=sorted_data['review'])\n",
        "plt.xticks(rotation=80)\n",
        "plt.xlabel(\"Category\")\n",
        "plt.ylabel(\"Reviews\")\n",
        "plt.title(\"Category and Reviews\")\n",
        "plt.show()"
      ],
      "execution_count": null,
      "outputs": []
    },
    {
      "metadata": {
        "_uuid": "603f010611f00b88557d1e5f0e7c4d36ac41176e",
        "id": "BE3JUtWmscqM"
      },
      "cell_type": "markdown",
      "source": [
        "<a id=\"b1\"></a>\n",
        "## Category and Installs"
      ]
    },
    {
      "metadata": {
        "trusted": true,
        "_uuid": "c058dbbe237ba41bb69bdffa67df9a413826d455",
        "id": "I231dTQkscqM"
      },
      "cell_type": "code",
      "source": [
        "category_list = list(data['Category'].unique())\n",
        "category_install = []\n",
        "for i in category_list:\n",
        "    x = data[data['Category'] == i]\n",
        "    if(len(x)!=0):\n",
        "        install = sum(x.Installs)/len(x)\n",
        "        category_install.append(install)\n",
        "    else:\n",
        "        install = sum(x.Installs)\n",
        "        category_install.append(install)\n",
        "\n",
        "#sorting\n",
        "data_category_install = pd.DataFrame({'category': category_list,'install':category_install})\n",
        "new_index = (data_category_install['install'].sort_values(ascending=False)).index.values\n",
        "sorted_data =data_category_install.reindex(new_index)\n",
        "\n",
        "# visualization\n",
        "plt.figure(figsize=(15,10))\n",
        "sns.barplot(x=sorted_data['category'], y=sorted_data['install'])\n",
        "plt.xticks(rotation=80)\n",
        "plt.xlabel(\"Category\")\n",
        "plt.ylabel(\"Install\")\n",
        "plt.title(\"Category and Install\")\n",
        "plt.show()"
      ],
      "execution_count": null,
      "outputs": []
    },
    {
      "metadata": {
        "_uuid": "1da67d64804f39975e7969c419419167fde067bf",
        "id": "K96l00yIscqM"
      },
      "cell_type": "markdown",
      "source": [
        "<a id=\"c1\"></a>\n",
        "## Word Cloud"
      ]
    },
    {
      "metadata": {
        "trusted": true,
        "_uuid": "6c1f501c3692005d847fe010acbb5d580438f3e8",
        "id": "aKnYyr4DscqM"
      },
      "cell_type": "code",
      "source": [
        "plt.subplots(figsize=(8,8))\n",
        "wordcloud = WordCloud(\n",
        "                          background_color='white',\n",
        "                          width=512,\n",
        "                          height=384\n",
        "                         ).generate(\" \".join(data))\n",
        "plt.imshow(wordcloud)\n",
        "plt.axis('off')\n",
        "plt.savefig('graph.png')\n",
        "\n",
        "plt.show()"
      ],
      "execution_count": null,
      "outputs": []
    },
    {
      "metadata": {
        "_uuid": "fc9c3babb8a71475524068549b67f41d5f7034b3",
        "id": "PkmhAiLQscqM"
      },
      "cell_type": "markdown",
      "source": [
        "<a id=\"d1\"></a>\n",
        "## Content Rating"
      ]
    },
    {
      "metadata": {
        "trusted": true,
        "_uuid": "a83ea94b4b301091459cf8fa12c993c2eb82af0f",
        "id": "GnSv3_VJscqN"
      },
      "cell_type": "code",
      "source": [
        "plt.figure(figsize=(10,7))\n",
        "sns.countplot(data=data, x='Content Rating')\n",
        "plt.xticks(rotation=80)\n",
        "plt.title('Content Rating',color = 'blue',fontsize=15)\n",
        "plt.show()"
      ],
      "execution_count": null,
      "outputs": []
    },
    {
      "metadata": {
        "_uuid": "6c044f4c026e24e78878fda06a8a2b9b8f836616",
        "id": "k7h_ZL5mscqN"
      },
      "cell_type": "markdown",
      "source": [
        "<a id=\"4\"></a>\n",
        "# Conclusion\n",
        "\n",
        "This is the end of the story. I hope It benefits to you. You can visualize with a lot of different model. Actually, I thought that EDA study could be boring. But It's important for ML models. I'm definitely gonna myself about this subject. You can help with your comments. Wish to see you with different datasets.\n",
        "\n",
        "**Thank you for your votes and comments **"
      ]
    }
  ],
  "metadata": {
    "kernelspec": {
      "display_name": "Python 3",
      "language": "python",
      "name": "python3"
    },
    "language_info": {
      "name": "python",
      "version": "3.6.6",
      "mimetype": "text/x-python",
      "codemirror_mode": {
        "name": "ipython",
        "version": 3
      },
      "pygments_lexer": "ipython3",
      "nbconvert_exporter": "python",
      "file_extension": ".py"
    },
    "colab": {
      "name": "Google Play Store Analysis ",
      "provenance": []
    }
  },
  "nbformat": 4,
  "nbformat_minor": 0
}